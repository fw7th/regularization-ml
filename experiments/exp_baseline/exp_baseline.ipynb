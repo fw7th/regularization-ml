{
 "cells": [
  {
   "cell_type": "code",
   "execution_count": 1,
   "metadata": {
    "colab": {
     "base_uri": "https://localhost:8080/"
    },
    "executionInfo": {
     "elapsed": 16191,
     "status": "ok",
     "timestamp": 1756513057976,
     "user": {
      "displayName": "David Okosa",
      "userId": "00279339004346410402"
     },
     "user_tz": -60
    },
    "id": "WBywPAoxLa6w",
    "outputId": "c19ec0db-309d-4034-8647-3c15400ac764"
   },
   "outputs": [
    {
     "name": "stdout",
     "output_type": "stream",
     "text": [
      "Requirement already satisfied: thop in /home/fw7th/.pyenv/versions/3.10.16/envs/mlenv/lib/python3.10/site-packages (0.1.1.post2209072238)\n",
      "Requirement already satisfied: torch in /home/fw7th/.pyenv/versions/3.10.16/envs/mlenv/lib/python3.10/site-packages (from thop) (2.5.1+cpu)\n",
      "Requirement already satisfied: filelock in /home/fw7th/.pyenv/versions/3.10.16/envs/mlenv/lib/python3.10/site-packages (from torch->thop) (3.13.1)\n",
      "Requirement already satisfied: typing-extensions>=4.8.0 in /home/fw7th/.pyenv/versions/3.10.16/envs/mlenv/lib/python3.10/site-packages (from torch->thop) (4.12.2)\n",
      "Requirement already satisfied: networkx in /home/fw7th/.pyenv/versions/3.10.16/envs/mlenv/lib/python3.10/site-packages (from torch->thop) (3.3)\n",
      "Requirement already satisfied: jinja2 in /home/fw7th/.pyenv/versions/3.10.16/envs/mlenv/lib/python3.10/site-packages (from torch->thop) (3.1.3)\n",
      "Requirement already satisfied: fsspec in /home/fw7th/.pyenv/versions/3.10.16/envs/mlenv/lib/python3.10/site-packages (from torch->thop) (2024.6.1)\n",
      "Requirement already satisfied: sympy==1.13.1 in /home/fw7th/.pyenv/versions/3.10.16/envs/mlenv/lib/python3.10/site-packages (from torch->thop) (1.13.1)\n",
      "Requirement already satisfied: mpmath<1.4,>=1.1.0 in /home/fw7th/.pyenv/versions/3.10.16/envs/mlenv/lib/python3.10/site-packages (from sympy==1.13.1->torch->thop) (1.3.0)\n",
      "Requirement already satisfied: MarkupSafe>=2.0 in /home/fw7th/.pyenv/versions/3.10.16/envs/mlenv/lib/python3.10/site-packages (from jinja2->torch->thop) (2.1.5)\n"
     ]
    }
   ],
   "source": [
    "!pip install thop"
   ]
  },
  {
   "cell_type": "code",
   "execution_count": 3,
   "metadata": {
    "executionInfo": {
     "elapsed": 21254,
     "status": "ok",
     "timestamp": 1756513079253,
     "user": {
      "displayName": "David Okosa",
      "userId": "00279339004346410402"
     },
     "user_tz": -60
    },
    "id": "TZ2GPy5v5dVK"
   },
   "outputs": [],
   "source": [
    "import sys\n",
    "from pathlib import Path\n",
    "\n",
    "# Add the project root to sys.path dynamically\n",
    "project_root = Path.cwd().parents[1]  # adjust if notebook is nested differently\n",
    "sys.path.append(str(project_root / \"src\"))\n",
    "\n",
    "import torch\n",
    "\n",
    "from model import MiniCNN, ConvBlock, FCBlock\n",
    "from train import trainModel\n",
    "from data import CustomDataset, load_cifar_10_data, check_data_loading, Loader, class_to_idx\n",
    "from visualizations import plotFmaps_and_activationHist, plotCurves\n",
    "from utils import unpickle, loadWeights, readJson, genError, saveHistory, evalModel"
   ]
  },
  {
   "cell_type": "code",
   "execution_count": null,
   "metadata": {
    "colab": {
     "base_uri": "https://localhost:8080/"
    },
    "executionInfo": {
     "elapsed": 29392,
     "status": "ok",
     "timestamp": 1756513108616,
     "user": {
      "displayName": "David Okosa",
      "userId": "00279339004346410402"
     },
     "user_tz": -60
    },
    "id": "O2w8AJH2zs6G",
    "outputId": "52e9e2bb-d6c3-4855-d298-96c03252bb07"
   },
   "outputs": [],
   "source": [
    "\"\"\"\n",
    "from google.colab import drive\n",
    "drive.mount('/content/drive')\n",
    "\"\"\""
   ]
  },
  {
   "cell_type": "code",
   "execution_count": null,
   "metadata": {
    "executionInfo": {
     "elapsed": 16,
     "status": "ok",
     "timestamp": 1756513108650,
     "user": {
      "displayName": "David Okosa",
      "userId": "00279339004346410402"
     },
     "user_tz": -60
    },
    "id": "3h4c2G4nP_qv"
   },
   "outputs": [],
   "source": [
    "device = \"cuda\" if torch.cuda.is_available() else \"cpu\"\n",
    "# base = \"/content/drive/MyDrive/project1\"\n",
    "base = \"/home/fw7th/regularization-ml\""
   ]
  },
  {
   "cell_type": "code",
   "execution_count": null,
   "metadata": {
    "colab": {
     "base_uri": "https://localhost:8080/"
    },
    "executionInfo": {
     "elapsed": 11453,
     "status": "ok",
     "timestamp": 1756513120116,
     "user": {
      "displayName": "David Okosa",
      "userId": "00279339004346410402"
     },
     "user_tz": -60
    },
    "id": "vyqxQ7GIyCsS",
    "outputId": "b8a65ac4-9d14-471f-d54d-dfa5724f69be"
   },
   "outputs": [],
   "source": [
    "\"\"\"\n",
    "# Copy once from Drive\n",
    "!cp /content/drive/MyDrive/project1/cifar-10-python.tar.gz /content/\n",
    "\n",
    "# Extract locally\n",
    "!mkdir /content/dataset/\n",
    "!tar -xvzf /content/cifar-10-python.tar.gz -C /content/dataset/\n",
    "\"\"\""
   ]
  },
  {
   "cell_type": "code",
   "execution_count": null,
   "metadata": {
    "executionInfo": {
     "elapsed": 11,
     "status": "ok",
     "timestamp": 1756513120172,
     "user": {
      "displayName": "David Okosa",
      "userId": "00279339004346410402"
     },
     "user_tz": -60
    },
    "id": "2M58iLvwr8Dt"
   },
   "outputs": [],
   "source": [
    "# Defining the layers for the baseline model\n",
    "base_conv_layers = [\n",
    "    ConvBlock(3, 64, pool=False),\n",
    "    ConvBlock(64, 64),\n",
    "    ConvBlock(64, 128, pool=False),\n",
    "    ConvBlock(128, 128)\n",
    "]\n",
    "\n",
    "base_fc_layers = [\n",
    "    FCBlock(128, 64),\n",
    "    torch.nn.Linear(64, 10)\n",
    "]\n",
    "\n",
    "baseline_model = MiniCNN(base_conv_layers, base_fc_layers)"
   ]
  },
  {
   "cell_type": "code",
   "execution_count": null,
   "metadata": {},
   "outputs": [],
   "source": [
    "train_data, train_labels, val_data, val_labels, test_data, test_labels = load_cifar_10_data()"
   ]
  },
  {
   "cell_type": "code",
   "execution_count": null,
   "metadata": {
    "colab": {
     "base_uri": "https://localhost:8080/",
     "height": 452
    },
    "executionInfo": {
     "elapsed": 252,
     "status": "ok",
     "timestamp": 1756513120714,
     "user": {
      "displayName": "David Okosa",
      "userId": "00279339004346410402"
     },
     "user_tz": -60
    },
    "id": "Wu0MNVQcXPXZ",
    "outputId": "6d9db2fd-3367-4342-f6f8-cef9a08b8d9f"
   },
   "outputs": [],
   "source": [
    "# Just sanity testing\n",
    "image_array = val_data[0]\n",
    "image_label = val_labels[0]\n",
    "image = image_array.reshape(3, 32, 32)\n",
    "image = Image.fromarray(image.transpose(1, 2, 0)) #HWC\n",
    "plt.imshow(image)\n",
    "plt.title(image_label)\n",
    "plt.show()"
   ]
  },
  {
   "cell_type": "code",
   "execution_count": null,
   "metadata": {
    "colab": {
     "base_uri": "https://localhost:8080/"
    },
    "executionInfo": {
     "elapsed": 565,
     "status": "ok",
     "timestamp": 1756513121388,
     "user": {
      "displayName": "David Okosa",
      "userId": "00279339004346410402"
     },
     "user_tz": -60
    },
    "id": "W122AwPKO-tH",
    "outputId": "821d3cc3-8d33-4204-94b1-3c907cf299b8"
   },
   "outputs": [],
   "source": [
    "train_loader, val_loader, test_loader = Loader(train_data, train_labels, val_data, val_labels, test_data, test_labels)"
   ]
  },
  {
   "cell_type": "code",
   "execution_count": null,
   "metadata": {
    "colab": {
     "base_uri": "https://localhost:8080/"
    },
    "executionInfo": {
     "elapsed": 1484057,
     "status": "ok",
     "timestamp": 1756515005603,
     "user": {
      "displayName": "David Okosa",
      "userId": "00279339004346410402"
     },
     "user_tz": -60
    },
    "id": "pouSZ7xZwVWH",
    "outputId": "6d924330-b1c7-4942-82bc-af35123f4742"
   },
   "outputs": [],
   "source": [
    "# Train the baseline model\n",
    "history_base = {\"train_loss\": [], \"val_loss\": [], \"train_acc\": [], \"val_acc\": [], \"last_epoch\": 0, \"LR\": []}\n",
    "model_type = \"baseline\"\n",
    "base_model = trainModel(baseline_model, history_base, train_loader, val_loader, model_type)\n",
    "saveHistory(history_base, \"baseline\")"
   ]
  },
  {
   "cell_type": "code",
   "execution_count": null,
   "metadata": {
    "colab": {
     "base_uri": "https://localhost:8080/",
     "height": 888
    },
    "executionInfo": {
     "elapsed": 2787,
     "status": "ok",
     "timestamp": 1756515285763,
     "user": {
      "displayName": "David Okosa",
      "userId": "00279339004346410402"
     },
     "user_tz": -60
    },
    "id": "26r_hqBQQ5lm",
    "outputId": "4f609948-8102-410b-fc9b-05884bd41612"
   },
   "outputs": [],
   "source": [
    "plotFmaps_and_activationHist(baseline_model, \"baseline\", \"final_epoch\", 1)"
   ]
  },
  {
   "cell_type": "code",
   "execution_count": null,
   "metadata": {
    "colab": {
     "base_uri": "https://localhost:8080/",
     "height": 894
    },
    "executionInfo": {
     "elapsed": 2986,
     "status": "ok",
     "timestamp": 1756515310650,
     "user": {
      "displayName": "David Okosa",
      "userId": "00279339004346410402"
     },
     "user_tz": -60
    },
    "id": "lA9Vmx0JBMbe",
    "outputId": "3bf3dec6-15ea-4fea-9bf9-c654a0f4118a"
   },
   "outputs": [],
   "source": [
    "plotFmaps_and_activationHist(baseline_model, \"baseline\", \"final_epoch\", 3)"
   ]
  },
  {
   "cell_type": "code",
   "execution_count": null,
   "metadata": {
    "colab": {
     "base_uri": "https://localhost:8080/"
    },
    "executionInfo": {
     "elapsed": 26,
     "status": "ok",
     "timestamp": 1756515332351,
     "user": {
      "displayName": "David Okosa",
      "userId": "00279339004346410402"
     },
     "user_tz": -60
    },
    "id": "xr6upkUo3wwE",
    "outputId": "078dba6d-7fd6-447d-85b4-7c7a729703b2"
   },
   "outputs": [],
   "source": [
    "baseline_data = readJson(\"baseline\")\n",
    "print(baseline_data.keys())"
   ]
  },
  {
   "cell_type": "code",
   "execution_count": null,
   "metadata": {
    "colab": {
     "base_uri": "https://localhost:8080/",
     "height": 1000
    },
    "executionInfo": {
     "elapsed": 1631,
     "status": "ok",
     "timestamp": 1756515357572,
     "user": {
      "displayName": "David Okosa",
      "userId": "00279339004346410402"
     },
     "user_tz": -60
    },
    "id": "oGZHC458487j",
    "outputId": "a68849af-eb0c-42dd-f5b8-d11e90579cb4"
   },
   "outputs": [],
   "source": [
    "train_losses = baseline_data[\"train_loss\"]\n",
    "val_losses = baseline_data[\"val_loss\"]\n",
    "train_accs = baseline_data[\"train_acc\"]\n",
    "val_accs = baseline_data[\"val_acc\"]\n",
    "plotCurves(train_losses, val_losses, train_accs, val_accs, \"baseline\")"
   ]
  },
  {
   "cell_type": "code",
   "execution_count": null,
   "metadata": {
    "colab": {
     "base_uri": "https://localhost:8080/",
     "height": 1000
    },
    "executionInfo": {
     "elapsed": 8426,
     "status": "ok",
     "timestamp": 1756515390260,
     "user": {
      "displayName": "David Okosa",
      "userId": "00279339004346410402"
     },
     "user_tz": -60
    },
    "id": "h2ieFgs6GfqQ",
    "outputId": "ca4a0197-3a7a-4d3e-b41c-c089e1662401",
    "scrolled": true
   },
   "outputs": [],
   "source": [
    "evalModel(baseline_model, \"baseline\", \"model_best\")"
   ]
  },
  {
   "cell_type": "code",
   "execution_count": null,
   "metadata": {
    "executionInfo": {
     "elapsed": 37,
     "status": "ok",
     "timestamp": 1756515397046,
     "user": {
      "displayName": "David Okosa",
      "userId": "00279339004346410402"
     },
     "user_tz": -60
    },
    "id": "dwVwJWRb6SXb"
   },
   "outputs": [],
   "source": []
  },
  {
   "cell_type": "code",
   "execution_count": null,
   "metadata": {
    "colab": {
     "base_uri": "https://localhost:8080/"
    },
    "executionInfo": {
     "elapsed": 300300,
     "status": "ok",
     "timestamp": 1756517061270,
     "user": {
      "displayName": "David Okosa",
      "userId": "00279339004346410402"
     },
     "user_tz": -60
    },
    "id": "P2eeiaRI9C0c",
    "outputId": "1d9f90ef-3d55-49a1-9bfe-04b08045be7e"
   },
   "outputs": [],
   "source": []
  }
 ],
 "metadata": {
  "accelerator": "GPU",
  "colab": {
   "authorship_tag": "ABX9TyMnlVaXn3pkx3Jfan9bcrzC",
   "gpuType": "T4",
   "provenance": []
  },
  "kernelspec": {
   "display_name": "Python 3 (ipykernel)",
   "language": "python",
   "name": "python3"
  },
  "language_info": {
   "codemirror_mode": {
    "name": "ipython",
    "version": 3
   },
   "file_extension": ".py",
   "mimetype": "text/x-python",
   "name": "python",
   "nbconvert_exporter": "python",
   "pygments_lexer": "ipython3",
   "version": "3.10.16"
  }
 },
 "nbformat": 4,
 "nbformat_minor": 4
}
