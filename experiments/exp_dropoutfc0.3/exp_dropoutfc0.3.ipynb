{
 "cells": [
  {
   "cell_type": "code",
   "execution_count": null,
   "id": "c5eb0f32-881d-4d17-8aa7-885b4a59fd43",
   "metadata": {},
   "outputs": [],
   "source": [
    "!pip install thop"
   ]
  },
  {
   "cell_type": "code",
   "execution_count": 1,
   "id": "232d0098-5ef2-493e-ad94-b6351f4c5e51",
   "metadata": {},
   "outputs": [],
   "source": [
    "import time\n",
    "import json\n",
    "import copy\n",
    "import torch\n",
    "import numpy as np\n",
    "import torch.nn as nn\n",
    "from tqdm import tqdm\n",
    "from PIL import Image\n",
    "import seaborn as sns\n",
    "from thop import profile\n",
    "import torch.optim as optim\n",
    "import matplotlib.pyplot as plt\n",
    "import torch.nn.functional as F\n",
    "from torch.utils.data import Dataset\n",
    "from torchvision import datasets, transforms\n",
    "from sklearn.metrics import confusion_matrix\n",
    "from sklearn.metrics import classification_report, accuracy_score\n",
    "\n",
    "from src.model import MiniCNN, ConvBlock, FCBlock\n",
    "from src.train import trainModel\n",
    "from src.data import CustomDataset, load_cifar_10_data, check_data_loading, Loader, class_to_idx\n",
    "from src.visualizations import plotFmaps_and_activationHist, plotCurves\n",
    "from src.utils import EarlyStopping, unpickle, loadWeights, readJson, genError, saveHistory, evalModel"
   ]
  },
  {
   "cell_type": "code",
   "execution_count": null,
   "id": "10960ab5-b4c4-4450-98b5-f55e191ca9cd",
   "metadata": {},
   "outputs": [],
   "source": [
    "\"\"\"\n",
    "from google.colab import drive\n",
    "drive.mount('/content/drive')\n",
    "\"\"\""
   ]
  },
  {
   "cell_type": "code",
   "execution_count": null,
   "id": "c9bec9c8-ca9f-4156-8e01-ca258bc8e9ac",
   "metadata": {},
   "outputs": [],
   "source": [
    "\n",
    "device = \"cuda\" if torch.cuda.is_available() else \"cpu\"\n",
    "#base = \"/content/drive/MyDrive/project1\"\n",
    "base = \"/home/fw7th/regularization-ml\""
   ]
  },
  {
   "cell_type": "code",
   "execution_count": null,
   "id": "4e67063d-6e4d-4d75-b428-4b2417f1023c",
   "metadata": {},
   "outputs": [],
   "source": [
    "\"\"\"\n",
    "# Copy once from Drive\n",
    "!cp /content/drive/MyDrive/project1/cifar-10-python.tar.gz /content/\n",
    "\n",
    "# Extract locally\n",
    "!mkdir /content/dataset/\n",
    "!tar -xvzf /content/cifar-10-python.tar.gz -C /content/dataset/\n",
    "\"\"\""
   ]
  },
  {
   "cell_type": "code",
   "execution_count": null,
   "id": "5fb5ad52-8e64-4268-b3ed-692df952ddbd",
   "metadata": {},
   "outputs": [],
   "source": [
    "# for the second model, we'll experiment on the effects of cutout at a value of 0.3 in the fc layer\n",
    "base_conv_layers = [\n",
    "    ConvBlock(3, 64, pool=False),\n",
    "    ConvBlock(64, 64),\n",
    "    ConvBlock(64, 128, pool=False),\n",
    "    ConvBlock(128, 128)\n",
    "]\n",
    "\n",
    "base_fc_layers = [\n",
    "    FCBlock(128, 64, True, 0.3),\n",
    "    nn.Linear(64, 10)\n",
    "]\n",
    "\n",
    "drop_3_model = MiniCNN(base_conv_layers, base_fc_layers)"
   ]
  },
  {
   "cell_type": "code",
   "execution_count": null,
   "id": "16734ddd-9904-4442-a002-a0eda3ca1b74",
   "metadata": {},
   "outputs": [],
   "source": [
    "# we're using the same dataset, and model architecture so let's train\n",
    "history_drop_3 = {\"train_loss\": [], \"val_loss\": [], \"train_acc\": [], \"val_acc\": [], \"last_epoch\": 0, \"LR\": []}\n",
    "dropoutfc0 = \"dropoutfc0.3\"\n",
    "drop_03_trained = trainModel(drop_3_model, history_drop_3, train_loader, val_loader, dropoutfc0)\n",
    "saveHistory(history_drop_3, dropoutfc0)"
   ]
  }
 ],
 "metadata": {
  "kernelspec": {
   "display_name": "Python 3 (ipykernel)",
   "language": "python",
   "name": "python3"
  },
  "language_info": {
   "codemirror_mode": {
    "name": "ipython",
    "version": 3
   },
   "file_extension": ".py",
   "mimetype": "text/x-python",
   "name": "python",
   "nbconvert_exporter": "python",
   "pygments_lexer": "ipython3",
   "version": "3.10.16"
  }
 },
 "nbformat": 4,
 "nbformat_minor": 5
}
